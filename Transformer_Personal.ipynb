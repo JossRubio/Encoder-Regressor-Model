{
  "nbformat": 4,
  "nbformat_minor": 0,
  "metadata": {
    "colab": {
      "name": "Transformer_Personal.ipynb",
      "provenance": [],
      "collapsed_sections": []
    },
    "kernelspec": {
      "name": "python3",
      "display_name": "Python 3"
    }
  },
  "cells": [
    {
      "cell_type": "markdown",
      "metadata": {
        "id": "D0aU6AVQpIOR"
      },
      "source": [
        "# Transformador Personal.\n",
        "EL7850-1 Trabajo de Investigación Dirigido\n",
        "\n",
        "Autor: José Rubio\n",
        "\n",
        "Profesor: Pablo Estévez\n"
      ]
    },
    {
      "cell_type": "markdown",
      "source": [
        "## Adaptacion de modelo Transformer decoder"
      ],
      "metadata": {
        "id": "ghNErN1lnDsM"
      }
    },
    {
      "cell_type": "code",
      "source": [
        "# !pip install icecream\n",
        "!pip install helpers\n",
        "!pip install plot"
      ],
      "metadata": {
        "colab": {
          "base_uri": "https://localhost:8080/",
          "height": 591
        },
        "id": "YSvfOkHRnCcd",
        "outputId": "44534ad6-ff92-4cdb-ce09-5ebc6811c614"
      },
      "execution_count": null,
      "outputs": [
        {
          "output_type": "stream",
          "name": "stdout",
          "text": [
            "Collecting helpers\n",
            "  Downloading helpers-0.2.0-py3-none-any.whl (2.3 kB)\n",
            "Installing collected packages: helpers\n",
            "Successfully installed helpers-0.2.0\n",
            "Collecting plot\n",
            "  Downloading plot-0.6.5-py2.py3-none-any.whl (135 kB)\n",
            "\u001b[K     |████████████████████████████████| 135 kB 13.5 MB/s \n",
            "\u001b[?25hRequirement already satisfied: matplotlib in /usr/local/lib/python3.7/dist-packages (from plot) (3.2.2)\n",
            "Collecting typing\n",
            "  Downloading typing-3.7.4.3.tar.gz (78 kB)\n",
            "\u001b[K     |████████████████████████████████| 78 kB 7.0 MB/s \n",
            "\u001b[?25hRequirement already satisfied: pyyaml in /usr/local/lib/python3.7/dist-packages (from plot) (3.13)\n",
            "Requirement already satisfied: numpy in /usr/local/lib/python3.7/dist-packages (from plot) (1.21.6)\n",
            "Requirement already satisfied: scipy in /usr/local/lib/python3.7/dist-packages (from plot) (1.4.1)\n",
            "Requirement already satisfied: cycler>=0.10 in /usr/local/lib/python3.7/dist-packages (from matplotlib->plot) (0.11.0)\n",
            "Requirement already satisfied: pyparsing!=2.0.4,!=2.1.2,!=2.1.6,>=2.0.1 in /usr/local/lib/python3.7/dist-packages (from matplotlib->plot) (3.0.8)\n",
            "Requirement already satisfied: kiwisolver>=1.0.1 in /usr/local/lib/python3.7/dist-packages (from matplotlib->plot) (1.4.2)\n",
            "Requirement already satisfied: python-dateutil>=2.1 in /usr/local/lib/python3.7/dist-packages (from matplotlib->plot) (2.8.2)\n",
            "Requirement already satisfied: typing-extensions in /usr/local/lib/python3.7/dist-packages (from kiwisolver>=1.0.1->matplotlib->plot) (4.2.0)\n",
            "Requirement already satisfied: six>=1.5 in /usr/local/lib/python3.7/dist-packages (from python-dateutil>=2.1->matplotlib->plot) (1.15.0)\n",
            "Building wheels for collected packages: typing\n",
            "  Building wheel for typing (setup.py) ... \u001b[?25l\u001b[?25hdone\n",
            "  Created wheel for typing: filename=typing-3.7.4.3-py3-none-any.whl size=26325 sha256=5610649e3c06d2891b67895f361e041088c4ed78ff7fc8106a182e4fdcd96bb8\n",
            "  Stored in directory: /root/.cache/pip/wheels/35/f3/15/01aa6571f0a72ee6ae7b827c1491c37a1f72d686fd22b43b0e\n",
            "Successfully built typing\n",
            "Installing collected packages: typing, plot\n",
            "Successfully installed plot-0.6.5 typing-3.7.4.3\n"
          ]
        },
        {
          "output_type": "display_data",
          "data": {
            "application/vnd.colab-display-data+json": {
              "pip_warning": {
                "packages": [
                  "typing"
                ]
              }
            }
          },
          "metadata": {}
        }
      ]
    },
    {
      "cell_type": "markdown",
      "source": [
        "## Librerías"
      ],
      "metadata": {
        "id": "CHSm524f3iVz"
      }
    },
    {
      "cell_type": "code",
      "source": [
        "import pandas as pd\n",
        "import time\n",
        "import numpy as np\n",
        "import datetime\n",
        "import torch, math, random\n",
        "import torch.nn as nn\n",
        "import matplotlib.pyplot as plt\n",
        "import logging\n",
        "import os, shutil\n",
        "import argparse\n",
        "\n",
        "from joblib import load\n",
        "from joblib import dump\n",
        "from torch.utils.data import Dataset, DataLoader\n",
        "from sklearn.preprocessing import MinMaxScaler\n",
        "from sklearn.metrics import mean_absolute_percentage_error, mean_absolute_error"
      ],
      "metadata": {
        "id": "x5zZfNvH20mZ"
      },
      "execution_count": null,
      "outputs": []
    },
    {
      "cell_type": "markdown",
      "source": [
        "## Modelo"
      ],
      "metadata": {
        "id": "eL-N_2oOPe_o"
      }
    },
    {
      "cell_type": "code",
      "source": [
        "\"\"\"\n",
        "The architecture is based on the paper “Attention Is All You Need”. \n",
        "Ashish Vaswani, Noam Shazeer, Niki Parmar, Jakob Uszkoreit, Llion Jones, Aidan N Gomez, Lukasz Kaiser, and Illia Polosukhin. 2017.\n",
        "\"\"\"\n",
        "\n",
        "class Transformer(nn.Module):\n",
        "    # d_model : number of features\n",
        "    def __init__(self,feature_size, n_heads, dim_ff_enc, num_layers, dropout=0):\n",
        "        super(Transformer, self).__init__()\n",
        "\n",
        "        self.encoder_layer = nn.TransformerEncoderLayer(d_model=feature_size, nhead=n_heads, dim_feedforward=dim_ff_enc, dropout=dropout)\n",
        "        self.transformer_encoder = nn.TransformerEncoder(self.encoder_layer, num_layers=num_layers)        \n",
        "        self.decoder = nn.Linear(feature_size,1)\n",
        "        self.init_weights()\n",
        "\n",
        "    def init_weights(self):\n",
        "        initrange = 0.1    \n",
        "        self.decoder.bias.data.zero_()\n",
        "        self.decoder.weight.data.uniform_(-initrange, initrange)\n",
        "\n",
        "    def _generate_square_subsequent_mask(self, sz):\n",
        "        mask = (torch.triu(torch.ones(sz, sz)) == 1).transpose(0, 1)\n",
        "        mask = mask.float().masked_fill(mask == 0, float('-inf')).masked_fill(mask == 1, float(0.0))\n",
        "        return mask\n",
        "\n",
        "    def forward(self, src, device):\n",
        "        \n",
        "        mask = self._generate_square_subsequent_mask(len(src)).to(device)\n",
        "        output = self.transformer_encoder(src,mask)\n",
        "        output = self.decoder(output)\n",
        "        return output"
      ],
      "metadata": {
        "id": "jwl92skyNq69"
      },
      "execution_count": null,
      "outputs": []
    },
    {
      "cell_type": "markdown",
      "source": [
        "## Prueba del modelo con datos sinteticos\n",
        "\n",
        "Al tener el modelo, entonces se quiere analizar el rendimiento de este utilizando datos sintetícos (función seno). Para ello se crea el objeto SinteticDataset"
      ],
      "metadata": {
        "id": "wfRV2fBe4loB"
      }
    },
    {
      "cell_type": "markdown",
      "source": [
        "### Función de positional enconding\n",
        "\n",
        "La función definida incorpora valores posicionales a la data de demanda horaria, permitiendo el proceso a los modulos de atención."
      ],
      "metadata": {
        "id": "xKpAxLTBaESJ"
      }
    },
    {
      "cell_type": "code",
      "source": [
        "def df_date_encoding(df):\n",
        "\n",
        "    df_process = df.copy()\n",
        "    timestamps = df_process['time']\n",
        "    timestamps_hour = np.array([t.hour for t in timestamps])\n",
        "    timestamps_day = np.array([t.day for t in timestamps])\n",
        "    timestamps_month = np.array([t.month for t in timestamps])\n",
        " \n",
        "    hours_in_day = 24\n",
        "    days_in_month = 30\n",
        "    month_in_year = 12\n",
        "\n",
        "    df_process['sin_hour'] = np.sin(2*np.pi*timestamps_hour/hours_in_day)\n",
        "    df_process['cos_hour'] = np.cos(2*np.pi*timestamps_hour/hours_in_day)\n",
        "    df_process['sin_day'] = np.sin(2*np.pi*timestamps_day/days_in_month)\n",
        "    df_process['cos_day'] = np.cos(2*np.pi*timestamps_day/days_in_month)\n",
        "    df_process['sin_month'] = np.sin(2*np.pi*timestamps_month/month_in_year)\n",
        "    df_process['cos_month'] = np.cos(2*np.pi*timestamps_month/month_in_year)\n",
        "\n",
        "    return df_process"
      ],
      "metadata": {
        "id": "lZIFZtfv9ghl"
      },
      "execution_count": null,
      "outputs": []
    },
    {
      "cell_type": "markdown",
      "source": [
        "### Configuración del generador de datos sintéticos.\n",
        "\n",
        "Este objeto genera datos periodicos que siguen la forma de una función seno. La cantidad total de datos y la frecuencia de este se puede controlar en la inicialización de este (esta se controla decidiendo la cantidad de puntos que se quiere por ciclo, mientras este valor sea mas cercano a la cantidad total de puntos generados entonces la frecuencia será menor)"
      ],
      "metadata": {
        "id": "hKu_boUYMF04"
      }
    },
    {
      "cell_type": "code",
      "source": [
        "class SinteticDataset(Dataset):\n",
        "    \"\"\" Sintetic data to transformer, sin or cos \"\"\"\n",
        "\n",
        "    def __init__(self, length, points_day, training_length, forecast_window, n_reset=1):\n",
        "        \"\"\"\n",
        "        Args:\n",
        "            length: Quantity of sintetic points generated.\n",
        "            points_day: Frequency points generated by day.\n",
        "            n_reset: Quantity of resets of series generated in getitem atribute.\n",
        "            training_length: reason size of the total data that is used to train the system.\n",
        "            forecast_window: Window of predictions.\n",
        "        \"\"\"\n",
        "\n",
        "        reason = length/points_day\n",
        "        data_generated = np.linspace(0, reason*360, length)\n",
        "        data_sin  = np.sin(data_generated*np.pi/180)\n",
        "        df = pd.DataFrame(data_sin, columns={'sintetic_data'})\n",
        "        df['time'] = pd.date_range(start='2020-01-01 00:00:00', periods=len(df), freq='H')\n",
        "        df = df_date_encoding(df)\n",
        "\n",
        "        self.df = df\n",
        "        self.n = n_reset\n",
        "        self.T = training_length\n",
        "        self.S = forecast_window\n",
        "\n",
        "        self.transform = MinMaxScaler()\n",
        "\n",
        "    def __len__(self):\n",
        "        return self.n\n",
        "\n",
        "    \n",
        "    def __getitem__(self, idx):\n",
        "        # The idx indicates the times of resets that be explored in the epoch.\n",
        "        \n",
        "        # np.random.seed(0)\n",
        "\n",
        "        start = np.random.randint(0, len(self.df) - self.T - self.S) \n",
        "        index_in = torch.tensor([i for i in range(start, start+self.T)])\n",
        "        index_tar = torch.tensor([i for i in range(start + self.T, start + self.T + self.S)])\n",
        "        features = ['sintetic_data', 'sin_hour', 'cos_hour', 'sin_day', 'cos_day', 'sin_month', 'cos_month']\n",
        "        _input = torch.tensor(self.df[features][start : start + self.T].values)\n",
        "        target = torch.tensor(self.df[features][start + self.T : start + self.T + self.S].values)\n",
        "\n",
        "        # scalar input/output of shape: [n_samples, n_features].\n",
        "        scaler = self.transform\n",
        "\n",
        "        scaler.fit(_input[:,0].unsqueeze(-1))\n",
        "        _input[:,0] = torch.tensor(scaler.transform(_input[:,0].unsqueeze(-1)).squeeze(-1))\n",
        "        target[:,0] = torch.tensor(scaler.transform(target[:,0].unsqueeze(-1)).squeeze(-1))\n",
        "\n",
        "        # save the scalar to be used later when inverse translating the data for plotting.\n",
        "        dump(scaler, 'scalar_item.joblib')\n",
        "\n",
        "        return index_in, index_tar, _input, target"
      ],
      "metadata": {
        "id": "15YXAJ8QSr2z"
      },
      "execution_count": null,
      "outputs": []
    },
    {
      "cell_type": "code",
      "source": [
        "length = 450\n",
        "points_cycle = 50\n",
        "training_length = 72\n",
        "forecast_window = 48\n",
        "\n",
        "train_dataset = SinteticDataset(length=length, points_day=points_cycle, training_length=training_length, forecast_window=forecast_window)\n",
        "train_dataloader = DataLoader(train_dataset, batch_size=1, shuffle=True)"
      ],
      "metadata": {
        "id": "YiGQVsRDKCF-"
      },
      "execution_count": null,
      "outputs": []
    },
    {
      "cell_type": "markdown",
      "source": [
        "###Función de entrenamiento\n",
        "\n",
        "Este bloque contiene el entrenamiento del modelo, cabe destacar que la cantidad de datos utilizados para el entrenamiento y la ventana de predicción se deben configurar previamente en el objeto generador de datos. Este sistema puede realizar entrenamientos para realizar predicciones one step o sampling, las cuales toma valores predichos como entradas para darle diversificación al entrenamiento."
      ],
      "metadata": {
        "id": "_Spo0QUqMBP7"
      }
    },
    {
      "cell_type": "code",
      "source": [
        "logging.basicConfig(level=logging.INFO, format=\"%(asctime)s [%(levelname)s] %(name)s %(message)s\", datefmt=\"[%Y-%m-%d %H:%M:%S]\")\n",
        "logger = logging.getLogger(__name__)\n",
        "\n",
        "def flip_from_probability(p):\n",
        "    return True if random.random() < p else False\n",
        "\n",
        "def train_transformer(dataloader, EPOCH, train_method, k, feature_size, n_heads, dim_ff_enc, encoder_layers, path_to_save_model,\n",
        "                      path_to_save_loss, path_to_save_predictions, device, xlabel_train, ylabel_train, title_train):\n",
        "\n",
        "    device = torch.device(device)\n",
        "\n",
        "    model = Transformer(feature_size=feature_size, n_heads=n_heads, dim_ff_enc=dim_ff_enc, num_layers=encoder_layers).double().to(device)\n",
        "    optimizer = torch.optim.Adam(model.parameters())\n",
        "    # scheduler = torch.optim.lr_scheduler.ReduceLROnPlateau(optimizer, mode='min', factor=0.1, patience=200)\n",
        "    criterion = torch.nn.MSELoss()\n",
        "    best_model = \"\"\n",
        "    min_train_loss = float('inf')\n",
        "\n",
        "    for epoch in range(EPOCH + 1):\n",
        "        train_loss = 0\n",
        "\n",
        "        model.train()\n",
        "        for index_in, index_tar, _input, target in dataloader:\n",
        "\n",
        "            optimizer.zero_grad()\n",
        "            src = _input.permute(1,0,2).double().to(device)[:-1,:,:] # Cambio de las dimensiones para el procesamiento del modelo\n",
        "            target = _input.permute(1,0,2).double().to(device)[1:,:,:] # src shifted by 1.\n",
        "\n",
        "            # Entrenamiento one step\n",
        "            if train_method == 'one_step':\n",
        "                prediction = model(src, device)\n",
        "                loss = criterion(prediction, target[:,:,0].unsqueeze(-1))\n",
        "            \n",
        "            # Entrenamiento con muestreo de predicciones anteriores.\n",
        "            elif train_method == 'sampling':\n",
        "                sampled_src = src[:1, :, :] #t0 torch.Size([1, 1, 7])\n",
        "                for i in range(len(target)-1):\n",
        "\n",
        "                  prediction = model(sampled_src, device) \n",
        "\n",
        "                  if i < 24: # One day, enough data to make inferences about cycles\n",
        "                      prob_true_val = True\n",
        "                  else:\n",
        "                      ## coin flip\n",
        "                      v = k/(k+math.exp(epoch/k)) # probability of heads/tails depends on the epoch, evolves with time.\n",
        "                      prob_true_val = flip_from_probability(v) # starts with over 95 % probability of true val for each flip in epoch 0.\n",
        "                      ## if using true value as new value\n",
        "\n",
        "                  if prob_true_val: # Using true value as next value\n",
        "                      sampled_src = torch.cat((sampled_src.detach(), src[i+1, :, :].unsqueeze(0).detach()))\n",
        "                  else: ## using prediction as new value\n",
        "                      positional_encodings_new_val = src[i+1,:,1:].unsqueeze(0)\n",
        "                      predicted_humidity = torch.cat((prediction[-1,:,:].unsqueeze(0), positional_encodings_new_val), dim=2)\n",
        "                      sampled_src = torch.cat((sampled_src.detach(), predicted_humidity.detach()))\n",
        "                \n",
        "                loss = criterion(target[:-1,:,0].unsqueeze(-1), prediction)\n",
        "            \n",
        "            \"\"\"To update model after each sequence\"\"\"\n",
        "\n",
        "            # loss = criterion(target[:-1,:,0].unsqueeze(-1), prediction)\n",
        "            # loss = criterion(prediction, target[:,:,0].unsqueeze(-1))\n",
        "            loss.backward()\n",
        "            optimizer.step()\n",
        "            train_loss += loss.detach().item()\n",
        "\n",
        "        if train_loss < min_train_loss:\n",
        "            torch.save(model.state_dict(), path_to_save_model + f\"best_train_{epoch}.pth\")\n",
        "            torch.save(optimizer.state_dict(), path_to_save_model + f\"optimizer_{epoch}.pth\")\n",
        "            min_train_loss = train_loss\n",
        "            best_model = f\"best_train_{epoch}.pth\"\n",
        "\n",
        "\n",
        "        length_plot = 200\n",
        "\n",
        "        if epoch % 100 == 0 and train_method == 'one_step': # Plot 1-Step Predictions\n",
        "\n",
        "            logger.info(f\"Epoch: {epoch}, Training loss: {train_loss}\")\n",
        "            scaler = load('scalar_item.joblib')\n",
        "            src_init = scaler.inverse_transform(src[:,:,0].cpu()) #torch.Size([35, 1, 7])\n",
        "            prediction = scaler.inverse_transform(prediction[:,:,0].detach().cpu().numpy()) #torch.Size([35, 1, 7])\n",
        "            src_to_plot, pred_to_plot = src_init[:length_plot], prediction[:length_plot]\n",
        "            index_in_plot, index_tar_plot = index_in[:length_plot], index_tar[:length_plot]\n",
        "            plot_training(epoch, path_to_save_predictions, src_to_plot, pred_to_plot, index_in, index_tar, xlabel_train, \n",
        "                            ylabel_train, title_train)\n",
        "\n",
        "        if epoch % 10 == 0 and train_method == 'sampling': # Plot 1-Step Predictions\n",
        "\n",
        "            logger.info(f\"Epoch: {epoch}, Training loss: {train_loss}\")\n",
        "            scaler = load('scalar_item.joblib')\n",
        "            sampled_src_humidity = scaler.inverse_transform(sampled_src[:,:,0].cpu()) #torch.Size([35, 1, 7])\n",
        "            src_init = scaler.inverse_transform(src[:,:,0].cpu()) #torch.Size([35, 1, 7])\n",
        "            prediction = scaler.inverse_transform(prediction[:,:,0].detach().cpu().numpy()) #torch.Size([35, 1, 7])\n",
        "            plot_training_3(epoch, path_to_save_predictions, src_init, sampled_src_humidity, prediction, index_in, index_tar,\n",
        "                            xlabel_train, ylabel_train, title_train)\n",
        "\n",
        "        train_loss /= len(dataloader)\n",
        "        log_loss(train_loss, path_to_save_loss, train=True)\n",
        "        \n",
        "    plot_loss(path_to_save_loss, train=True)\n",
        "    return best_model"
      ],
      "metadata": {
        "id": "eilJ-s3VSwGt"
      },
      "execution_count": null,
      "outputs": []
    },
    {
      "cell_type": "markdown",
      "source": [
        "### Función de carga y predicción de modelos\n",
        "\n",
        "Este bloque contiene un sistema que carga un modelo previamente entrenado, ademas a partir de esto genera gráficos para ver con detalle cuales son las predicciones realizadas por el sistema"
      ],
      "metadata": {
        "id": "ZYCDghfQrOyW"
      }
    },
    {
      "cell_type": "code",
      "source": [
        "logging.basicConfig(level=logging.INFO, format=\"%(asctime)s [%(levelname)s] %(name)s %(message)s\", datefmt=\"[%Y-%m-%d %H:%M:%S]\")\n",
        "logger = logging.getLogger(__name__)\n",
        "\n",
        "def inference(path_to_save_predictions, inference_rounds, feature_size, n_heads, dim_ff_enc, encoder_layers, \n",
        "              forecast_window, dataloader, device, path_to_save_model, best_model, xlabel, ylabel, title):\n",
        "\n",
        "    device = torch.device(device)\n",
        "    \n",
        "    model = Transformer(feature_size=feature_size, n_heads=n_heads, dim_ff_enc=dim_ff_enc, num_layers=encoder_layers).double().to(device)\n",
        "    model.load_state_dict(torch.load(path_to_save_model+best_model))\n",
        "    criterion = torch.nn.MSELoss()\n",
        "\n",
        "    val_loss = 0\n",
        "    with torch.no_grad():\n",
        "\n",
        "        model.eval()\n",
        "        mape_sum = 0\n",
        "        mae_sum = 0\n",
        "        for round in range(inference_rounds):\n",
        "\n",
        "            for index_in, index_tar, _input, target in dataloader:\n",
        "                \n",
        "                # starting from 1 so that src matches with target, but has same length as when training\n",
        "                src = _input.permute(1,0,2).double().to(device)[1:, :, :] # 47, 1, 7: t1 -- t47\n",
        "                target = target.permute(1,0,2).double().to(device) # t48 - t59\n",
        "\n",
        "                next_input_model = src\n",
        "                all_predictions = []\n",
        "\n",
        "                for i in range(forecast_window - 1):\n",
        "                    \n",
        "                    prediction = model(next_input_model, device) # 47,1,1: t2' - t48'\n",
        "\n",
        "                    if all_predictions == []:\n",
        "                        all_predictions = prediction # 47,1,1: t2' - t48'\n",
        "                    else:\n",
        "                        all_predictions = torch.cat((all_predictions, prediction[-1,:,:].unsqueeze(0))) # 47+,1,1: t2' - t48', t49', t50'\n",
        "\n",
        "                    pos_encoding_old_vals = src[i+1:, :, 1:] # 46, 1, 6, pop positional encoding first value: t2 -- t47\n",
        "                    pos_encoding_new_val = target[i + 1, :, 1:].unsqueeze(1) # 1, 1, 6, append positional encoding of last predicted value: t48\n",
        "                    pos_encodings = torch.cat((pos_encoding_old_vals, pos_encoding_new_val)) # 47, 1, 6 positional encodings matched with prediction: t2 -- t48\n",
        "                    \n",
        "                    next_input_model = torch.cat((src[i+1:, :, 0].unsqueeze(-1), prediction[-1,:,:].unsqueeze(0))) #t2 -- t47, t48'\n",
        "                    next_input_model = torch.cat((next_input_model, pos_encodings), dim = 2) # 47, 1, 7 input for next round\n",
        "\n",
        "                true = torch.cat((src[1:,:,0],target[:-1,:,0]))\n",
        "                loss = criterion(true, all_predictions[:,:,0])\n",
        "                val_loss += loss\n",
        "            \n",
        "            val_loss = val_loss/10\n",
        "            scaler = load('scalar_item.joblib')\n",
        "            src_init = scaler.inverse_transform(src[:,:,0].cpu())\n",
        "            target_init = scaler.inverse_transform(target[:,:,0].cpu())\n",
        "            prediction = scaler.inverse_transform(all_predictions[:,:,0].detach().cpu().numpy())\n",
        "            plot_prediction(path_to_save_predictions, src_init, target_init, prediction, index_in, index_tar, \n",
        "                            xlabel, ylabel, title, round)\n",
        "            mape = mean_absolute_percentage_error(target_init, prediction[-forecast_window:])\n",
        "            mae = mean_absolute_error(target_init, prediction[-forecast_window:])\n",
        "\n",
        "            logger.info(f\"Round: {round},  MAPE: {mape}, MAE: {mae} in target\")\n",
        "            mape_sum += mape\n",
        "            mae_sum += mae\n",
        "\n",
        "        mape_mean = mape_sum/inference_rounds\n",
        "        mae_mean = mae_sum/inference_rounds\n",
        "        logger.info(f\"MAPE mean in inference: {mape_mean}\")\n",
        "        logger.info(f\"MAE mean in inference: {mae_mean}\")\n",
        "        logger.info(f\"Loss On Unseen Dataset: {val_loss.item()}\")"
      ],
      "metadata": {
        "id": "MoCLPGZ9mGpS"
      },
      "execution_count": null,
      "outputs": []
    },
    {
      "cell_type": "markdown",
      "source": [
        "### Funciones de visualizaciones gráficas\n",
        "\n",
        "En este bloque se tienen diferentes funciones de visualización. Estas son aplicadas en las funciones definidas anteriormente, se pueden ver la función de costos durante el entrenamiento, las predicciones realizadas por el sistema cuando se encuentra en el entrenamiento y también cuando este ya finalizó."
      ],
      "metadata": {
        "id": "dxxLddm4rom1"
      }
    },
    {
      "cell_type": "code",
      "source": [
        "def plot_loss(path_to_save, train=True):\n",
        "    plt.rcParams.update({'font.size': 10})\n",
        "    with open(path_to_save + \"/train_loss.txt\", 'r') as f:\n",
        "        loss_list = [float(line) for line in f.readlines()]\n",
        "    if train:\n",
        "        title = \"Train\"\n",
        "    else:\n",
        "        title = \"Validation\"\n",
        "    EMA_loss = EMA(loss_list)\n",
        "\n",
        "    plt.figure(figsize=(15,6))\n",
        "    plt.rcParams.update({\"font.size\" : 16})\n",
        "    \n",
        "    plt.plot(loss_list, label = \"loss\")\n",
        "    plt.plot(EMA_loss, label=\"EMA loss\")\n",
        "    plt.xlabel(\"Epochs\")\n",
        "    plt.ylabel(\"Loss\")\n",
        "    plt.legend()\n",
        "    plt.title(title+\"_loss\")\n",
        "    plt.grid(True)\n",
        "    plt.savefig(path_to_save+f\"/{title}.png\")\n",
        "    plt.close()\n",
        "\n",
        "def plot_prediction(path_to_save, src, tgt, prediction, index_in, index_tar, xlabel, ylabel, title, n):\n",
        "\n",
        "    idx_scr = index_in[0, 1:].tolist()\n",
        "    idx_tgt = index_tar[0].tolist()\n",
        "    idx_pred = [i for i in range(idx_scr[0] +1, idx_tgt[-1])] #t2 - t61\n",
        "\n",
        "    plt.figure(figsize=(15,6))\n",
        "    plt.rcParams.update({\"font.size\" : 16})\n",
        "\n",
        "    # connect with last elemenet in src\n",
        "    # tgt = np.append(src[-1], tgt.flatten())\n",
        "    # prediction = np.append(src[-1], prediction.flatten())\n",
        "\n",
        "    # plotting\n",
        "    plt.plot(idx_scr, src, '-', color = 'blue', label = 'Input', linewidth=2)\n",
        "    plt.plot(idx_tgt, tgt, '-', color = 'black', label = 'Target', linewidth=2)\n",
        "    plt.plot(idx_pred, prediction,'--', color = 'red', label = 'Forecast', linewidth=2)\n",
        "\n",
        "    #formatting\n",
        "    plt.grid(b=True, which='major', linestyle = 'solid')\n",
        "    plt.minorticks_on()\n",
        "    plt.grid(b=True, which='minor', linestyle = 'dashed', alpha=0.5)\n",
        "    plt.xlabel(xlabel)\n",
        "    plt.ylabel(ylabel)\n",
        "    plt.legend()\n",
        "    plt.title(title)\n",
        "\n",
        "    # save\n",
        "    plt.savefig(path_to_save+f\"Prediction_{n}.png\")\n",
        "    plt.close()\n",
        "\n",
        "def plot_training(epoch, path_to_save, src, prediction, index_in, index_tar, xlabel, ylabel, title):\n",
        "\n",
        "    idx_scr = [i for i in range(len(src))]\n",
        "    idx_pred = [i for i in range(1, len(prediction)+1)]\n",
        "\n",
        "    plt.figure(figsize=(15,6))\n",
        "    plt.rcParams.update({\"font.size\" : 18})\n",
        "    plt.grid(b=True, which='major', linestyle = '-')\n",
        "    plt.grid(b=True, which='minor', linestyle = '--', alpha=0.5)\n",
        "    plt.minorticks_on()\n",
        "\n",
        "    plt.plot(idx_scr, src, 'o-.', color = 'blue', label = 'input sequence', linewidth=1)\n",
        "    plt.plot(idx_pred, prediction, 'o-.', color = 'limegreen', label = 'prediction sequence', linewidth=1)\n",
        "\n",
        "    plt.title(title + \", Epoch \" + str(epoch))\n",
        "    plt.xlabel(xlabel)\n",
        "    plt.ylabel(ylabel)\n",
        "    plt.legend()\n",
        "    plt.savefig(path_to_save+f\"/Epoch_{str(epoch)}.png\")\n",
        "    plt.close()\n",
        "\n",
        "def plot_training_3(epoch, path_to_save, src, sampled_src, prediction, index_in, index_tar, xlabel, ylabel, title):\n",
        "\n",
        "    idx_scr = [i for i in range(len(src))]\n",
        "    idx_pred = [i for i in range(1, len(prediction)+1)]\n",
        "    idx_sampled_src = [i for i in range(len(sampled_src))]\n",
        "\n",
        "    plt.figure(figsize=(15,6))\n",
        "    plt.rcParams.update({\"font.size\" : 18})\n",
        "    plt.grid(b=True, which='major', linestyle = '-')\n",
        "    plt.grid(b=True, which='minor', linestyle = '--', alpha=0.5)\n",
        "    plt.minorticks_on()\n",
        "\n",
        "    ## REMOVE DROPOUT FOR THIS PLOT TO APPEAR AS EXPECTED !! DROPOUT INTERFERES WITH HOW THE SAMPLED SOURCES ARE PLOTTED\n",
        "    plt.plot(idx_sampled_src, sampled_src, 'o-.', color='red', label = 'sampled source', linewidth=1, markersize=10)\n",
        "    plt.plot(idx_scr, src, 'o-.', color = 'blue', label = 'input sequence', linewidth=1)\n",
        "    plt.plot(idx_pred, prediction, 'o-.', color = 'limegreen', label = 'prediction sequence', linewidth=1)\n",
        "    plt.title(title + \" Epoch \" + str(epoch))\n",
        "    plt.xlabel(xlabel)\n",
        "    plt.ylabel(ylabel)\n",
        "    plt.legend()\n",
        "    plt.savefig(path_to_save+f\"/Epoch_{str(epoch)}.png\")\n",
        "    plt.close()"
      ],
      "metadata": {
        "id": "wOTAWfxKrMoN"
      },
      "execution_count": null,
      "outputs": []
    },
    {
      "cell_type": "markdown",
      "source": [
        "###Funciones auxiliares\n",
        "\n",
        "Sistemas de soporte para el uso de los bloques definidos anteriormente."
      ],
      "metadata": {
        "id": "3J3rnfiFs272"
      }
    },
    {
      "cell_type": "code",
      "source": [
        "# save train or validation loss\n",
        "def log_loss(loss_val : float, path_to_save_loss : str, train : bool = True):\n",
        "    if train:\n",
        "        file_name = \"train_loss.txt\"\n",
        "    else:\n",
        "        file_name = \"val_loss.txt\"\n",
        "\n",
        "    path_to_file = path_to_save_loss+file_name\n",
        "    os.makedirs(os.path.dirname(path_to_file), exist_ok=True)\n",
        "    with open(path_to_file, \"a\") as f:\n",
        "        f.write(str(loss_val)+\"\\n\")\n",
        "        f.close()\n",
        "\n",
        "# Exponential Moving Average, https://en.wikipedia.org/wiki/Moving_average\n",
        "def EMA(values, alpha=0.1):\n",
        "    ema_values = [values[0]]\n",
        "    for idx, item in enumerate(values[1:]):\n",
        "        ema_values.append(alpha*item + (1-alpha)*ema_values[idx])\n",
        "    return ema_values\n",
        "\n",
        "# Remove all files from previous executions and re-run the model.\n",
        "def clean_directory(path_to_save_model, path_to_save_loss, path_to_save_predictions):\n",
        "\n",
        "    if os.path.exists(path_to_save_loss):\n",
        "        shutil.rmtree(path_to_save_loss)\n",
        "    if os.path.exists(path_to_save_model): \n",
        "        shutil.rmtree(path_to_save_model)\n",
        "    if os.path.exists(path_to_save_predictions): \n",
        "        shutil.rmtree(path_to_save_predictions)\n",
        "    os.mkdir(path_to_save_loss)\n",
        "    os.mkdir(path_to_save_model)\n",
        "    os.mkdir(path_to_save_predictions)"
      ],
      "metadata": {
        "id": "9aMN4nIws0h7"
      },
      "execution_count": null,
      "outputs": []
    },
    {
      "cell_type": "markdown",
      "source": [
        "### Ejecución de entrenamiento y visualización del rendimiento y predicciones del sistema.\n",
        "\n",
        "Las funciones definidas en las secciones anteriores se sintetizan en ensta función, la cual ejecuta el entrenamiento, la carga de los modelos mejroes entrenados y el rendimiento de este."
      ],
      "metadata": {
        "id": "ywpGDvIOsZqB"
      }
    },
    {
      "cell_type": "code",
      "source": [
        "def main(\n",
        "    train_dataset,\n",
        "    test_dataset,\n",
        "    model_features,\n",
        "    model_heads,\n",
        "    model_dim_ff, \n",
        "    model_encoder_layers,\n",
        "    train_method = 'sampling',\n",
        "    epoch: int = 500,\n",
        "    k: int = 60,\n",
        "    batch_size: int = 1,\n",
        "    training_length = 72,\n",
        "    forecast_window = 24,\n",
        "    path_to_save_model = \"save_model/\",\n",
        "    path_to_save_loss = \"save_loss/\", \n",
        "    path_to_save_predictions = \"save_predictions/\", \n",
        "    device = \"cpu\",\n",
        "    inference_rounds = 25,\n",
        "    xlabel = \"date\",\n",
        "    ylabel = \"MW\",\n",
        "    title = \"Predicciones de la demanda española usando transformers\"\n",
        "):\n",
        "\n",
        "    clean_directory(path_to_save_model, path_to_save_loss, path_to_save_predictions)\n",
        "\n",
        "    train_dataloader = DataLoader(train_dataset, batch_size=1, shuffle=True)\n",
        "    test_dataloader = DataLoader(test_dataset, batch_size=1, shuffle=True)\n",
        "\n",
        "    best_model = train_transformer(train_dataloader, epoch, train_method, k, model_features, model_heads, model_dim_ff, model_encoder_layers, \n",
        "                                   path_to_save_model,  path_to_save_loss, path_to_save_predictions, device, xlabel, ylabel, \n",
        "                                   title + \" training.\")\n",
        "    \n",
        "    inference(path_to_save_predictions, inference_rounds, model_features, model_heads, model_dim_ff, model_encoder_layers, forecast_window, \n",
        "              test_dataloader, device, path_to_save_model, best_model, xlabel, ylabel, title)\n",
        "    \n",
        "    return best_model"
      ],
      "metadata": {
        "id": "2NbKV7lNmPad"
      },
      "execution_count": null,
      "outputs": []
    },
    {
      "cell_type": "code",
      "source": [
        "# Model hyperparameters\n",
        "n_heads = 7\n",
        "encoder_layers = 3\n",
        "dim_ff_enc = 2048\n",
        "\n",
        "training_length = 72\n",
        "forecast_window = 48\n",
        "device = \"cpu\"\n",
        "\n",
        "# Labels de los gráficos\n",
        "ylabel = 'Sintetic value'\n",
        "title = 'Predicciones del modelo utilizando datos sintéticos'\n",
        "\n",
        "epochs = 500\n",
        "\n",
        "train_dataset = SinteticDataset(length=450, points_day=25, training_length = training_length, forecast_window = forecast_window)\n",
        "test_dataset = SinteticDataset(length=450, points_day=25, training_length = training_length, forecast_window = forecast_window)\n",
        "\n",
        "feature_size = train_dataset.__getitem__(0)[2].size()[1]"
      ],
      "metadata": {
        "id": "A1yObl9BgGPl"
      },
      "execution_count": null,
      "outputs": []
    },
    {
      "cell_type": "code",
      "source": [
        "best_model = main(train_dataset, test_dataset, model_features=feature_size, model_heads=n_heads, model_dim_ff=dim_ff_enc, \n",
        "                  model_encoder_layers=encoder_layers, epoch=epochs, training_length=training_length, forecast_window=forecast_window, \n",
        "                  device=device, ylabel=ylabel, title=title)"
      ],
      "metadata": {
        "colab": {
          "base_uri": "https://localhost:8080/"
        },
        "id": "O3uAjEBNE5nk",
        "outputId": "9a9e27db-7a53-4b71-a727-c10c8b8112d3"
      },
      "execution_count": null,
      "outputs": [
        {
          "output_type": "stream",
          "name": "stderr",
          "text": [
            "[2022-04-29 02:26:38] [INFO] __main__ Epoch: 0, Training loss: 0.7058981272173935\n",
            "[2022-04-29 02:26:42] [INFO] __main__ Epoch: 10, Training loss: 0.14026296027114546\n",
            "[2022-04-29 02:26:47] [INFO] __main__ Epoch: 20, Training loss: 0.12494150095470377\n",
            "[2022-04-29 02:26:52] [INFO] __main__ Epoch: 30, Training loss: 0.12880659814742326\n",
            "[2022-04-29 02:26:57] [INFO] __main__ Epoch: 40, Training loss: 0.12840318616141877\n",
            "[2022-04-29 02:27:01] [INFO] __main__ Epoch: 50, Training loss: 0.12614000910379647\n",
            "[2022-04-29 02:27:04] [INFO] __main__ Epoch: 60, Training loss: 0.09383978145101897\n",
            "[2022-04-29 02:27:07] [INFO] __main__ Epoch: 70, Training loss: 0.07247288524957521\n",
            "[2022-04-29 02:27:09] [INFO] __main__ Epoch: 80, Training loss: 0.0299109446507635\n",
            "[2022-04-29 02:27:12] [INFO] __main__ Epoch: 90, Training loss: 0.02460660133147274\n",
            "[2022-04-29 02:27:15] [INFO] __main__ Epoch: 100, Training loss: 0.016456300465586413\n",
            "[2022-04-29 02:27:18] [INFO] __main__ Epoch: 110, Training loss: 0.01824646170494311\n",
            "[2022-04-29 02:27:21] [INFO] __main__ Epoch: 120, Training loss: 0.0064933048757340826\n",
            "[2022-04-29 02:27:24] [INFO] __main__ Epoch: 130, Training loss: 0.005906864588601294\n",
            "[2022-04-29 02:27:27] [INFO] __main__ Epoch: 140, Training loss: 0.003554864822762476\n",
            "[2022-04-29 02:27:30] [INFO] __main__ Epoch: 150, Training loss: 0.004901569712483106\n",
            "[2022-04-29 02:27:35] [INFO] __main__ Epoch: 160, Training loss: 0.0022127478814006145\n",
            "[2022-04-29 02:27:38] [INFO] __main__ Epoch: 170, Training loss: 0.006958596617029809\n",
            "[2022-04-29 02:27:40] [INFO] __main__ Epoch: 180, Training loss: 0.0030974718797089885\n",
            "[2022-04-29 02:27:43] [INFO] __main__ Epoch: 190, Training loss: 0.0019427978829286664\n",
            "[2022-04-29 02:27:46] [INFO] __main__ Epoch: 200, Training loss: 0.0008368501993295847\n",
            "[2022-04-29 02:27:49] [INFO] __main__ Epoch: 210, Training loss: 0.0017064653226790897\n",
            "[2022-04-29 02:27:52] [INFO] __main__ Epoch: 220, Training loss: 0.0005686598738364208\n",
            "[2022-04-29 02:27:55] [INFO] __main__ Epoch: 230, Training loss: 0.0009320715443030637\n",
            "[2022-04-29 02:27:58] [INFO] __main__ Epoch: 240, Training loss: 0.0006413931295976921\n",
            "[2022-04-29 02:28:01] [INFO] __main__ Epoch: 250, Training loss: 0.0019069675460340484\n",
            "[2022-04-29 02:28:04] [INFO] __main__ Epoch: 260, Training loss: 0.0004750095349387725\n",
            "[2022-04-29 02:28:07] [INFO] __main__ Epoch: 270, Training loss: 0.0010096778518831142\n",
            "[2022-04-29 02:28:10] [INFO] __main__ Epoch: 280, Training loss: 0.0019471544004815735\n",
            "[2022-04-29 02:28:14] [INFO] __main__ Epoch: 290, Training loss: 0.003935969289553851\n",
            "[2022-04-29 02:28:17] [INFO] __main__ Epoch: 300, Training loss: 0.0020799887589699455\n",
            "[2022-04-29 02:28:20] [INFO] __main__ Epoch: 310, Training loss: 0.0019225320204145611\n",
            "[2022-04-29 02:28:23] [INFO] __main__ Epoch: 320, Training loss: 0.0009332889615775592\n",
            "[2022-04-29 02:28:26] [INFO] __main__ Epoch: 330, Training loss: 0.0014810288342266482\n",
            "[2022-04-29 02:28:29] [INFO] __main__ Epoch: 340, Training loss: 0.0006990484274083171\n",
            "[2022-04-29 02:28:32] [INFO] __main__ Epoch: 350, Training loss: 0.0015677884692207275\n",
            "[2022-04-29 02:28:35] [INFO] __main__ Epoch: 360, Training loss: 0.004525820384441543\n",
            "[2022-04-29 02:28:38] [INFO] __main__ Epoch: 370, Training loss: 0.0007077656962429723\n",
            "[2022-04-29 02:28:41] [INFO] __main__ Epoch: 380, Training loss: 0.0009672264446805689\n",
            "[2022-04-29 02:28:44] [INFO] __main__ Epoch: 390, Training loss: 0.0002686439942630418\n",
            "[2022-04-29 02:28:47] [INFO] __main__ Epoch: 400, Training loss: 0.0009713070048700239\n",
            "[2022-04-29 02:28:49] [INFO] __main__ Epoch: 410, Training loss: 0.0007132871354705782\n",
            "[2022-04-29 02:28:52] [INFO] __main__ Epoch: 420, Training loss: 0.00026588378188489555\n",
            "[2022-04-29 02:28:55] [INFO] __main__ Epoch: 430, Training loss: 0.00043543813938258204\n",
            "[2022-04-29 02:28:58] [INFO] __main__ Epoch: 440, Training loss: 0.0005321254522382145\n",
            "[2022-04-29 02:29:01] [INFO] __main__ Epoch: 450, Training loss: 0.000248609385349655\n",
            "[2022-04-29 02:29:04] [INFO] __main__ Epoch: 460, Training loss: 0.0007981617001168347\n",
            "[2022-04-29 02:29:07] [INFO] __main__ Epoch: 470, Training loss: 0.00037666509831811373\n",
            "[2022-04-29 02:29:10] [INFO] __main__ Epoch: 480, Training loss: 0.0008504145599793166\n",
            "[2022-04-29 02:29:14] [INFO] __main__ Epoch: 490, Training loss: 0.0005307282966339244\n",
            "[2022-04-29 02:29:17] [INFO] __main__ Epoch: 500, Training loss: 0.000310408611834723\n",
            "[2022-04-29 02:29:18] [INFO] __main__ Round: 0,  MAPE: 0.14019268376528524, MAE: 0.03147126671619817 in target\n",
            "[2022-04-29 02:29:19] [INFO] __main__ Round: 1,  MAPE: 0.21925773009844726, MAE: 0.04160970644698134 in target\n",
            "[2022-04-29 02:29:19] [INFO] __main__ Round: 2,  MAPE: 0.19311615155796832, MAE: 0.05086461073992019 in target\n",
            "[2022-04-29 02:29:20] [INFO] __main__ Round: 3,  MAPE: 0.2730674627270288, MAE: 0.08584133818822681 in target\n",
            "[2022-04-29 02:29:20] [INFO] __main__ Round: 4,  MAPE: 0.780952284730196, MAE: 0.07575828034592876 in target\n",
            "[2022-04-29 02:29:21] [INFO] __main__ Round: 5,  MAPE: 0.2767504349986634, MAE: 0.07219154239469801 in target\n",
            "[2022-04-29 02:29:22] [INFO] __main__ Round: 6,  MAPE: 0.23609650155043974, MAE: 0.05882063862940606 in target\n",
            "[2022-04-29 02:29:22] [INFO] __main__ Round: 7,  MAPE: 0.22857883480476593, MAE: 0.07730969325095426 in target\n",
            "[2022-04-29 02:29:23] [INFO] __main__ Round: 8,  MAPE: 0.19426622266787807, MAE: 0.042009197984790546 in target\n",
            "[2022-04-29 02:29:23] [INFO] __main__ Round: 9,  MAPE: 0.258062000909269, MAE: 0.054350711826857745 in target\n",
            "[2022-04-29 02:29:24] [INFO] __main__ Round: 10,  MAPE: 0.2573481192356871, MAE: 0.07871300675843693 in target\n",
            "[2022-04-29 02:29:25] [INFO] __main__ Round: 11,  MAPE: 0.2696053719977613, MAE: 0.06699457898212102 in target\n",
            "[2022-04-29 02:29:25] [INFO] __main__ Round: 12,  MAPE: 0.28298313220010707, MAE: 0.0534137096621562 in target\n",
            "[2022-04-29 02:29:26] [INFO] __main__ Round: 13,  MAPE: 0.22348709950226694, MAE: 0.056860273792698014 in target\n",
            "[2022-04-29 02:29:26] [INFO] __main__ Round: 14,  MAPE: 0.32793430088123504, MAE: 0.08676938670227263 in target\n",
            "[2022-04-29 02:29:27] [INFO] __main__ Round: 15,  MAPE: 0.2557208760858522, MAE: 0.045130878446858175 in target\n",
            "[2022-04-29 02:29:27] [INFO] __main__ Round: 16,  MAPE: 0.2269080975866491, MAE: 0.053690574383115613 in target\n",
            "[2022-04-29 02:29:28] [INFO] __main__ Round: 17,  MAPE: 0.2696053719977613, MAE: 0.06699457898212102 in target\n",
            "[2022-04-29 02:29:28] [INFO] __main__ Round: 18,  MAPE: 0.20742041132799013, MAE: 0.0407534568312693 in target\n",
            "[2022-04-29 02:29:29] [INFO] __main__ Round: 19,  MAPE: 0.11221682384651087, MAE: 0.030602650309350832 in target\n",
            "[2022-04-29 02:29:29] [INFO] __main__ Round: 20,  MAPE: 1.0936108046510151, MAE: 0.0566055962373605 in target\n",
            "[2022-04-29 02:29:30] [INFO] __main__ Round: 21,  MAPE: 0.2269080975866491, MAE: 0.053690574383115613 in target\n",
            "[2022-04-29 02:29:30] [INFO] __main__ Round: 22,  MAPE: 0.27989233476470404, MAE: 0.09843806922333487 in target\n",
            "[2022-04-29 02:29:31] [INFO] __main__ Round: 23,  MAPE: 0.23285299896794487, MAE: 0.06586645447869906 in target\n",
            "[2022-04-29 02:29:31] [INFO] __main__ Round: 24,  MAPE: 0.2841834498371804, MAE: 0.049606658024993276 in target\n",
            "[2022-04-29 02:29:31] [INFO] __main__ MAPE mean in inference: 0.29404070393117027\n",
            "[2022-04-29 02:29:31] [INFO] __main__ MAE mean in inference: 0.05977429734887459\n",
            "[2022-04-29 02:29:31] [INFO] __main__ Loss On Unseen Dataset: 0.0005718955389752842\n"
          ]
        }
      ]
    },
    {
      "cell_type": "code",
      "source": [
        "best_model"
      ],
      "metadata": {
        "id": "60uZa6-IE-Hy"
      },
      "execution_count": null,
      "outputs": []
    },
    {
      "cell_type": "markdown",
      "source": [
        "##Prueba del modelo con datos reales\n",
        "\n",
        "Para analizar la viabilidad de este sistema se cargo una serie temporal de humedad provista por Woodsense, la cual fue acomodada para que el sistema pueda procesarla correctamente."
      ],
      "metadata": {
        "id": "7dWKw-xr47yZ"
      }
    },
    {
      "cell_type": "code",
      "metadata": {
        "colab": {
          "base_uri": "https://localhost:8080/"
        },
        "id": "38rRP34Ndkgy",
        "outputId": "49065d4e-bbc5-48d7-a6ff-dd6ba77b7470"
      },
      "source": [
        "!git clone https://github.com/JossRubio/Prediccion_demanda_energetica"
      ],
      "execution_count": null,
      "outputs": [
        {
          "output_type": "stream",
          "name": "stdout",
          "text": [
            "Cloning into 'Prediccion_demanda_energetica'...\n",
            "remote: Enumerating objects: 106, done.\u001b[K\n",
            "remote: Counting objects: 100% (106/106), done.\u001b[K\n",
            "remote: Compressing objects: 100% (103/103), done.\u001b[K\n",
            "remote: Total 106 (delta 39), reused 0 (delta 0), pack-reused 0\u001b[K\n",
            "Receiving objects: 100% (106/106), 16.01 MiB | 6.45 MiB/s, done.\n",
            "Resolving deltas: 100% (39/39), done.\n"
          ]
        }
      ]
    },
    {
      "cell_type": "code",
      "metadata": {
        "id": "2GDEk2h_US0y"
      },
      "source": [
        "# Extracción de datasets\n",
        "\n",
        "directory = \"Prediccion_demanda_energetica/data/\"                   # Directorio donde se almacenan los datasets.\n",
        "directory_var = 'Prediccion_demanda_energetica/codes/variables/'    # Directorio donde se almacenan las variables de interes.\n",
        "\n",
        "df_energy = pd.read_csv(directory + \"energy_dataset.csv\")\n",
        "\n",
        "df_energy['time'] = pd.to_datetime(df_energy['time'], format='%Y-%m-%d %H:%M:%S')"
      ],
      "execution_count": null,
      "outputs": []
    },
    {
      "cell_type": "code",
      "source": [
        "# df_energy = pd.read_csv('energy_dataset.csv')\n",
        "length = df_energy.__len__()\n",
        "df_energy.rename(columns={'time':'timestamp'}, inplace=True)\n",
        "df_energy_cut = df_energy[['timestamp','total load actual']].iloc[:length]\n",
        "df_energy_cut.dropna(inplace=True)\n",
        "\n",
        "train_size = 0.7\n",
        "train_quantity = int(train_size*df_energy_cut.__len__())\n",
        "\n",
        "# df_energy_cut.index = df_energy['timestamp'].iloc[:length]\n",
        "\n",
        "df_energy_train = df_energy_cut.iloc[:train_quantity]\n",
        "df_energy_test = df_energy_cut.iloc[train_quantity:]\n",
        "\n",
        "df_energy_cut.to_csv('energy_cut.csv',index = False)\n",
        "df_energy_train.to_csv('energy_train.csv', index = False)\n",
        "df_energy_test.to_csv('energy_test.csv', index = False)"
      ],
      "metadata": {
        "id": "4TigDJW5CarT"
      },
      "execution_count": null,
      "outputs": []
    },
    {
      "cell_type": "code",
      "source": [
        "df_energy_train['timestamp'] = pd.to_datetime(df_energy['timestamp'], format='%Y-%m-%d %H:%M:%S')\n",
        "df_energy_train.rename(columns={'timestamp':'date'}, inplace=True)"
      ],
      "metadata": {
        "id": "obd05Id7oTfb",
        "colab": {
          "base_uri": "https://localhost:8080/"
        },
        "outputId": "db73bded-b135-42ac-9c2c-f919d9786fcd"
      },
      "execution_count": null,
      "outputs": [
        {
          "output_type": "stream",
          "name": "stderr",
          "text": [
            "/usr/local/lib/python3.7/dist-packages/ipykernel_launcher.py:1: SettingWithCopyWarning: \n",
            "A value is trying to be set on a copy of a slice from a DataFrame.\n",
            "Try using .loc[row_indexer,col_indexer] = value instead\n",
            "\n",
            "See the caveats in the documentation: https://pandas.pydata.org/pandas-docs/stable/user_guide/indexing.html#returning-a-view-versus-a-copy\n",
            "  \"\"\"Entry point for launching an IPython kernel.\n",
            "/usr/local/lib/python3.7/dist-packages/pandas/core/frame.py:5047: SettingWithCopyWarning: \n",
            "A value is trying to be set on a copy of a slice from a DataFrame\n",
            "\n",
            "See the caveats in the documentation: https://pandas.pydata.org/pandas-docs/stable/user_guide/indexing.html#returning-a-view-versus-a-copy\n",
            "  errors=errors,\n"
          ]
        }
      ]
    },
    {
      "cell_type": "code",
      "source": [
        "# Suma de valores de la columna del dataset de energia (energy_dataset.csv)\n",
        "\n",
        "# En primer lugar se quieren eliminar aquellas columnas que en su mayoría poseen valores nans. Para ello se diseña la siguiente función\n",
        "\n",
        "def nans_remove(df, nan_threshold, reset_index=True):\n",
        "  df_process = df.copy()\n",
        "  assert nan_threshold < 1 and nan_threshold > 0 , ('nan threshold must be between 0 and 1')\n",
        "  cols_names = df.columns\n",
        "  for name in cols_names:\n",
        "    len, drop_len = df_process[name].__len__(), df_process[name].dropna().__len__()\n",
        "    difference_reason = (len - drop_len)/(len)\n",
        "    if difference_reason > (1-nan_threshold):\n",
        "      df_process.drop(columns=[name], inplace=True)\n",
        "    else:\n",
        "      continue\n",
        "  df_process.dropna(inplace=True)\n",
        "  df_process.reset_index(drop=reset_index, inplace=reset_index)\n",
        "  return df_process\n",
        "\n",
        "nan_limit = .9\n",
        "\n",
        "# Eliminando las columnas nans del dataframe se tiene.\n",
        "df_energy_processed = nans_remove(df_energy, nan_limit)\n",
        "\n",
        "columns_demand = ['timestamp','total load actual', 'total load forecast']\n",
        "demand_forecast_data = df_energy_processed[columns_demand]"
      ],
      "metadata": {
        "id": "Ya-iMLQfbym_"
      },
      "execution_count": null,
      "outputs": []
    },
    {
      "cell_type": "code",
      "source": [
        "demand_forecast_data"
      ],
      "metadata": {
        "colab": {
          "base_uri": "https://localhost:8080/",
          "height": 423
        },
        "id": "tMQXsgRfcsbI",
        "outputId": "dd0f0c49-ded1-46db-b624-4fd488dabe3d"
      },
      "execution_count": null,
      "outputs": [
        {
          "output_type": "execute_result",
          "data": {
            "text/plain": [
              "                       timestamp  total load actual  total load forecast\n",
              "0      2015-01-01 00:00:00+01:00            25385.0              26118.0\n",
              "1      2015-01-01 01:00:00+01:00            24382.0              24934.0\n",
              "2      2015-01-01 02:00:00+01:00            22734.0              23515.0\n",
              "3      2015-01-01 03:00:00+01:00            21286.0              22642.0\n",
              "4      2015-01-01 04:00:00+01:00            20264.0              21785.0\n",
              "...                          ...                ...                  ...\n",
              "35012  2018-12-31 19:00:00+01:00            30653.0              30619.0\n",
              "35013  2018-12-31 20:00:00+01:00            29735.0              29932.0\n",
              "35014  2018-12-31 21:00:00+01:00            28071.0              27903.0\n",
              "35015  2018-12-31 22:00:00+01:00            25801.0              25450.0\n",
              "35016  2018-12-31 23:00:00+01:00            24455.0              24424.0\n",
              "\n",
              "[35017 rows x 3 columns]"
            ],
            "text/html": [
              "\n",
              "  <div id=\"df-2e2c95e6-2ab5-4df5-ab83-ec3e9d57497b\">\n",
              "    <div class=\"colab-df-container\">\n",
              "      <div>\n",
              "<style scoped>\n",
              "    .dataframe tbody tr th:only-of-type {\n",
              "        vertical-align: middle;\n",
              "    }\n",
              "\n",
              "    .dataframe tbody tr th {\n",
              "        vertical-align: top;\n",
              "    }\n",
              "\n",
              "    .dataframe thead th {\n",
              "        text-align: right;\n",
              "    }\n",
              "</style>\n",
              "<table border=\"1\" class=\"dataframe\">\n",
              "  <thead>\n",
              "    <tr style=\"text-align: right;\">\n",
              "      <th></th>\n",
              "      <th>timestamp</th>\n",
              "      <th>total load actual</th>\n",
              "      <th>total load forecast</th>\n",
              "    </tr>\n",
              "  </thead>\n",
              "  <tbody>\n",
              "    <tr>\n",
              "      <th>0</th>\n",
              "      <td>2015-01-01 00:00:00+01:00</td>\n",
              "      <td>25385.0</td>\n",
              "      <td>26118.0</td>\n",
              "    </tr>\n",
              "    <tr>\n",
              "      <th>1</th>\n",
              "      <td>2015-01-01 01:00:00+01:00</td>\n",
              "      <td>24382.0</td>\n",
              "      <td>24934.0</td>\n",
              "    </tr>\n",
              "    <tr>\n",
              "      <th>2</th>\n",
              "      <td>2015-01-01 02:00:00+01:00</td>\n",
              "      <td>22734.0</td>\n",
              "      <td>23515.0</td>\n",
              "    </tr>\n",
              "    <tr>\n",
              "      <th>3</th>\n",
              "      <td>2015-01-01 03:00:00+01:00</td>\n",
              "      <td>21286.0</td>\n",
              "      <td>22642.0</td>\n",
              "    </tr>\n",
              "    <tr>\n",
              "      <th>4</th>\n",
              "      <td>2015-01-01 04:00:00+01:00</td>\n",
              "      <td>20264.0</td>\n",
              "      <td>21785.0</td>\n",
              "    </tr>\n",
              "    <tr>\n",
              "      <th>...</th>\n",
              "      <td>...</td>\n",
              "      <td>...</td>\n",
              "      <td>...</td>\n",
              "    </tr>\n",
              "    <tr>\n",
              "      <th>35012</th>\n",
              "      <td>2018-12-31 19:00:00+01:00</td>\n",
              "      <td>30653.0</td>\n",
              "      <td>30619.0</td>\n",
              "    </tr>\n",
              "    <tr>\n",
              "      <th>35013</th>\n",
              "      <td>2018-12-31 20:00:00+01:00</td>\n",
              "      <td>29735.0</td>\n",
              "      <td>29932.0</td>\n",
              "    </tr>\n",
              "    <tr>\n",
              "      <th>35014</th>\n",
              "      <td>2018-12-31 21:00:00+01:00</td>\n",
              "      <td>28071.0</td>\n",
              "      <td>27903.0</td>\n",
              "    </tr>\n",
              "    <tr>\n",
              "      <th>35015</th>\n",
              "      <td>2018-12-31 22:00:00+01:00</td>\n",
              "      <td>25801.0</td>\n",
              "      <td>25450.0</td>\n",
              "    </tr>\n",
              "    <tr>\n",
              "      <th>35016</th>\n",
              "      <td>2018-12-31 23:00:00+01:00</td>\n",
              "      <td>24455.0</td>\n",
              "      <td>24424.0</td>\n",
              "    </tr>\n",
              "  </tbody>\n",
              "</table>\n",
              "<p>35017 rows × 3 columns</p>\n",
              "</div>\n",
              "      <button class=\"colab-df-convert\" onclick=\"convertToInteractive('df-2e2c95e6-2ab5-4df5-ab83-ec3e9d57497b')\"\n",
              "              title=\"Convert this dataframe to an interactive table.\"\n",
              "              style=\"display:none;\">\n",
              "        \n",
              "  <svg xmlns=\"http://www.w3.org/2000/svg\" height=\"24px\"viewBox=\"0 0 24 24\"\n",
              "       width=\"24px\">\n",
              "    <path d=\"M0 0h24v24H0V0z\" fill=\"none\"/>\n",
              "    <path d=\"M18.56 5.44l.94 2.06.94-2.06 2.06-.94-2.06-.94-.94-2.06-.94 2.06-2.06.94zm-11 1L8.5 8.5l.94-2.06 2.06-.94-2.06-.94L8.5 2.5l-.94 2.06-2.06.94zm10 10l.94 2.06.94-2.06 2.06-.94-2.06-.94-.94-2.06-.94 2.06-2.06.94z\"/><path d=\"M17.41 7.96l-1.37-1.37c-.4-.4-.92-.59-1.43-.59-.52 0-1.04.2-1.43.59L10.3 9.45l-7.72 7.72c-.78.78-.78 2.05 0 2.83L4 21.41c.39.39.9.59 1.41.59.51 0 1.02-.2 1.41-.59l7.78-7.78 2.81-2.81c.8-.78.8-2.07 0-2.86zM5.41 20L4 18.59l7.72-7.72 1.47 1.35L5.41 20z\"/>\n",
              "  </svg>\n",
              "      </button>\n",
              "      \n",
              "  <style>\n",
              "    .colab-df-container {\n",
              "      display:flex;\n",
              "      flex-wrap:wrap;\n",
              "      gap: 12px;\n",
              "    }\n",
              "\n",
              "    .colab-df-convert {\n",
              "      background-color: #E8F0FE;\n",
              "      border: none;\n",
              "      border-radius: 50%;\n",
              "      cursor: pointer;\n",
              "      display: none;\n",
              "      fill: #1967D2;\n",
              "      height: 32px;\n",
              "      padding: 0 0 0 0;\n",
              "      width: 32px;\n",
              "    }\n",
              "\n",
              "    .colab-df-convert:hover {\n",
              "      background-color: #E2EBFA;\n",
              "      box-shadow: 0px 1px 2px rgba(60, 64, 67, 0.3), 0px 1px 3px 1px rgba(60, 64, 67, 0.15);\n",
              "      fill: #174EA6;\n",
              "    }\n",
              "\n",
              "    [theme=dark] .colab-df-convert {\n",
              "      background-color: #3B4455;\n",
              "      fill: #D2E3FC;\n",
              "    }\n",
              "\n",
              "    [theme=dark] .colab-df-convert:hover {\n",
              "      background-color: #434B5C;\n",
              "      box-shadow: 0px 1px 3px 1px rgba(0, 0, 0, 0.15);\n",
              "      filter: drop-shadow(0px 1px 2px rgba(0, 0, 0, 0.3));\n",
              "      fill: #FFFFFF;\n",
              "    }\n",
              "  </style>\n",
              "\n",
              "      <script>\n",
              "        const buttonEl =\n",
              "          document.querySelector('#df-2e2c95e6-2ab5-4df5-ab83-ec3e9d57497b button.colab-df-convert');\n",
              "        buttonEl.style.display =\n",
              "          google.colab.kernel.accessAllowed ? 'block' : 'none';\n",
              "\n",
              "        async function convertToInteractive(key) {\n",
              "          const element = document.querySelector('#df-2e2c95e6-2ab5-4df5-ab83-ec3e9d57497b');\n",
              "          const dataTable =\n",
              "            await google.colab.kernel.invokeFunction('convertToInteractive',\n",
              "                                                     [key], {});\n",
              "          if (!dataTable) return;\n",
              "\n",
              "          const docLinkHtml = 'Like what you see? Visit the ' +\n",
              "            '<a target=\"_blank\" href=https://colab.research.google.com/notebooks/data_table.ipynb>data table notebook</a>'\n",
              "            + ' to learn more about interactive tables.';\n",
              "          element.innerHTML = '';\n",
              "          dataTable['output_type'] = 'display_data';\n",
              "          await google.colab.output.renderOutput(dataTable, element);\n",
              "          const docLink = document.createElement('div');\n",
              "          docLink.innerHTML = docLinkHtml;\n",
              "          element.appendChild(docLink);\n",
              "        }\n",
              "      </script>\n",
              "    </div>\n",
              "  </div>\n",
              "  "
            ]
          },
          "metadata": {},
          "execution_count": 17
        }
      ]
    },
    {
      "cell_type": "markdown",
      "source": [
        "### Preprocesamiento de datos\n",
        "\n",
        "Se realizó una serie de procesos para limpiar y acomodar los datos a utilizar."
      ],
      "metadata": {
        "id": "qXisO6M13qx9"
      }
    },
    {
      "cell_type": "code",
      "source": [
        "# encoding the timestamp data cyclically. See Medium Article.\n",
        "def process_data(source):\n",
        "\n",
        "    df = pd.read_csv(source)\n",
        "        \n",
        "    timestamps = [ts.split('+')[0] for ts in  df['timestamp']]\n",
        "    timestamps_hour = np.array([float(datetime.datetime.strptime(t, '%Y-%m-%d %H:%M:%S').hour) for t in timestamps])\n",
        "    timestamps_day = np.array([float(datetime.datetime.strptime(t, '%Y-%m-%d %H:%M:%S').day) for t in timestamps])\n",
        "    timestamps_month = np.array([float(datetime.datetime.strptime(t, '%Y-%m-%d %H:%M:%S').month) for t in timestamps])\n",
        "\n",
        "    hours_in_day = 24\n",
        "    days_in_month = 30\n",
        "    month_in_year = 12\n",
        "\n",
        "    df['sin_hour'] = np.sin(2*np.pi*timestamps_hour/hours_in_day)\n",
        "    df['cos_hour'] = np.cos(2*np.pi*timestamps_hour/hours_in_day)\n",
        "    df['sin_day'] = np.sin(2*np.pi*timestamps_day/days_in_month)\n",
        "    df['cos_day'] = np.cos(2*np.pi*timestamps_day/days_in_month)\n",
        "    df['sin_month'] = np.sin(2*np.pi*timestamps_month/month_in_year)\n",
        "    df['cos_month'] = np.cos(2*np.pi*timestamps_month/month_in_year)\n",
        "\n",
        "    return df"
      ],
      "metadata": {
        "id": "hl4nTD8a32Ps"
      },
      "execution_count": null,
      "outputs": []
    },
    {
      "cell_type": "code",
      "source": [
        "train_dataset = process_data('energy_train.csv')\n",
        "test_dataset = process_data('energy_test.csv')\n",
        "\n",
        "train_dataset.to_csv(r'train_dataset.csv', index=False)\n",
        "test_dataset.to_csv(r'test_dataset.csv', index=False)"
      ],
      "metadata": {
        "id": "h9gt1saKzhcZ"
      },
      "execution_count": null,
      "outputs": []
    },
    {
      "cell_type": "markdown",
      "source": [
        "### Configuración del Energy Dataset.\n",
        "\n",
        "Objeto que configura la carga y las características con las que debe ser procesado los datos reales"
      ],
      "metadata": {
        "id": "Wap5Mx5BNk9W"
      }
    },
    {
      "cell_type": "code",
      "source": [
        "class EnergyDataset(Dataset):\n",
        "    \"\"\"Face Landmarks dataset.\"\"\"\n",
        "\n",
        "    def __init__(self, csv_name, root_dir, training_length, forecast_window, n_reset=1):\n",
        "        \"\"\"\n",
        "        Args:\n",
        "            csv_file (string): Path to the csv file.\n",
        "            root_dir (string): Directory\n",
        "        \"\"\"\n",
        "        \n",
        "        # load raw data file\n",
        "        csv_file = os.path.join(root_dir, csv_name)\n",
        "        self.df = pd.read_csv(csv_file)\n",
        "        self.root_dir = root_dir\n",
        "        self.transform = MinMaxScaler()\n",
        "        self.n = n_reset\n",
        "        self.T = training_length\n",
        "        self.S = forecast_window\n",
        "\n",
        "    def __len__(self):\n",
        "        return self.n\n",
        "\n",
        "    # Will pull an index between 0 and __len__. \n",
        "    def __getitem__(self, idx):\n",
        "\n",
        "        start = np.random.randint(0, len(self.df) - self.T - self.S)\n",
        "        index_in = torch.tensor([i for i in range(start, start+self.T)])\n",
        "        index_tar = torch.tensor([i for i in range(start + self.T, start + self.T + self.S)])\n",
        "\n",
        "        features = ['total load actual', 'sin_hour', 'cos_hour', 'sin_day', 'cos_day', 'sin_month', 'cos_month']\n",
        "        _input = torch.tensor(self.df[features][start : start + self.T].values)\n",
        "        target = torch.tensor(self.df[features][start + self.T : start + self.T + self.S].values)\n",
        "\n",
        "        # scalar is fit only to the input, to avoid the scaled values \"leaking\" information about the target range.\n",
        "        # scalar is fit only for humidity, as the timestamps are already scaled\n",
        "        # scalar input/output of shape: [n_samples, n_features].\n",
        "        scaler = self.transform\n",
        "\n",
        "        scaler.fit(_input[:,0].unsqueeze(-1))\n",
        "        _input[:,0] = torch.tensor(scaler.transform(_input[:,0].unsqueeze(-1)).squeeze(-1))\n",
        "        target[:,0] = torch.tensor(scaler.transform(target[:,0].unsqueeze(-1)).squeeze(-1))\n",
        "\n",
        "        # save the scalar to be used later when inverse translating the data for plotting.\n",
        "        dump(scaler, 'scalar_item.joblib')\n",
        "\n",
        "        return index_in, index_tar, _input, target"
      ],
      "metadata": {
        "id": "v8b783Mh4jtl"
      },
      "execution_count": null,
      "outputs": []
    },
    {
      "cell_type": "code",
      "source": [
        "torch.cuda.empty_cache()"
      ],
      "metadata": {
        "id": "lwj6bWWjMQVw"
      },
      "execution_count": null,
      "outputs": []
    },
    {
      "cell_type": "markdown",
      "source": [
        "### Ejecución de entrenamiento del modelo\n",
        "\n",
        "En este bloque se definen los hiperparámetros del modelo y se aplican a las funciones definidas anteriormente para realizar el entrenamiento del sistema"
      ],
      "metadata": {
        "id": "kFHncud1Z2N6"
      }
    },
    {
      "cell_type": "code",
      "source": [
        "train_csv = \"train_dataset.csv\"\n",
        "test_csv = \"test_dataset.csv\"\n",
        "\n",
        "# Model hyperparameters\n",
        "n_heads = 7\n",
        "encoder_layers = 3\n",
        "dim_ff_enc = 2048\n",
        "\n",
        "training_length = 300\n",
        "forecast_window = 48\n",
        "path_to_save_model = \"save_model_r/\"\n",
        "path_to_save_loss = \"save_loss_r/\"\n",
        "path_to_save_predictions = \"save_predictions_r/\"\n",
        "xlabel = \"Time Elapsed\"\n",
        "ylabel = \"MW\"\n",
        "title = \"Demand electric Spain forecast\"\n",
        "device = \"cpu\"\n",
        "\n",
        "epochs = 500\n",
        "\n",
        "train_dataset = EnergyDataset(csv_name = train_csv, root_dir = \"\", training_length = training_length, forecast_window = forecast_window)\n",
        "test_dataset = EnergyDataset(csv_name = test_csv, root_dir = \"\", training_length = training_length, forecast_window = forecast_window)\n",
        "\n",
        "feature_size = train_dataset.__getitem__(0)[2].size()[1]\n",
        "\n",
        "best_model = main(train_dataset, test_dataset, model_features=feature_size, model_heads=n_heads, model_dim_ff=dim_ff_enc, \n",
        "                  model_encoder_layers=encoder_layers, epoch=epochs, training_length=training_length, forecast_window=forecast_window, \n",
        "                  path_to_save_model=path_to_save_model, path_to_save_loss=path_to_save_loss, path_to_save_predictions=path_to_save_predictions, \n",
        "                  xlabel=xlabel, ylabel=ylabel, title=title, device=device)\n"
      ],
      "metadata": {
        "id": "pgI_41Nv0HhV",
        "colab": {
          "base_uri": "https://localhost:8080/"
        },
        "outputId": "b09b5436-9ca9-4207-c3a1-2fdcfe4bbdf9"
      },
      "execution_count": null,
      "outputs": [
        {
          "output_type": "stream",
          "name": "stderr",
          "text": [
            "[2022-04-04 04:37:10] [INFO] __main__ Epoch: 0, Training loss: 0.2463105447719992\n",
            "[2022-04-04 04:37:20] [INFO] __main__ Epoch: 100, Training loss: 0.028882934140544915\n",
            "[2022-04-04 04:37:29] [INFO] __main__ Epoch: 200, Training loss: 0.020665914309359264\n",
            "[2022-04-04 04:37:39] [INFO] __main__ Epoch: 300, Training loss: 0.010293187801532619\n",
            "[2022-04-04 04:37:50] [INFO] __main__ Epoch: 400, Training loss: 0.010208167078771386\n",
            "[2022-04-04 04:37:59] [INFO] __main__ Epoch: 500, Training loss: 0.0114776890068253\n",
            "[2022-04-04 04:38:02] [INFO] __main__ Round: 0,  MAPE: 0.13522793146050757, MAE: 3976.3275815355396 in target\n",
            "[2022-04-04 04:38:06] [INFO] __main__ Round: 1,  MAPE: 0.3554245108415361, MAE: 8231.28337570047 in target\n",
            "[2022-04-04 04:38:08] [INFO] __main__ Round: 2,  MAPE: 0.11453696512655638, MAE: 2990.282234841366 in target\n",
            "[2022-04-04 04:38:12] [INFO] __main__ Round: 3,  MAPE: 0.06222481809412339, MAE: 1764.179219032155 in target\n",
            "[2022-04-04 04:38:15] [INFO] __main__ Round: 4,  MAPE: 0.2173183152968591, MAE: 7041.379118671361 in target\n",
            "[2022-04-04 04:38:18] [INFO] __main__ Round: 5,  MAPE: 0.20862901198677822, MAE: 5444.5766907765765 in target\n",
            "[2022-04-04 04:38:21] [INFO] __main__ Round: 6,  MAPE: 0.08060064911183304, MAE: 1825.7062310657548 in target\n",
            "[2022-04-04 04:38:24] [INFO] __main__ Round: 7,  MAPE: 0.169900275787261, MAE: 4155.583864285408 in target\n",
            "[2022-04-04 04:38:27] [INFO] __main__ Round: 8,  MAPE: 0.11820769311233222, MAE: 3591.0669029320866 in target\n",
            "[2022-04-04 04:38:30] [INFO] __main__ Round: 9,  MAPE: 0.27734609786978875, MAE: 6824.559376249347 in target\n",
            "[2022-04-04 04:38:33] [INFO] __main__ Round: 10,  MAPE: 0.15155519090350927, MAE: 4900.331638389358 in target\n",
            "[2022-04-04 04:38:36] [INFO] __main__ Round: 11,  MAPE: 0.10846786109563955, MAE: 2935.379104658569 in target\n",
            "[2022-04-04 04:38:39] [INFO] __main__ Round: 12,  MAPE: 0.3191735329862448, MAE: 7755.784641567591 in target\n",
            "[2022-04-04 04:38:42] [INFO] __main__ Round: 13,  MAPE: 0.12163587858308826, MAE: 3300.13280247633 in target\n",
            "[2022-04-04 04:38:44] [INFO] __main__ Round: 14,  MAPE: 0.11669671315181503, MAE: 3065.8840795583674 in target\n",
            "[2022-04-04 04:38:47] [INFO] __main__ Round: 15,  MAPE: 0.0835810920935775, MAE: 2406.4688877634217 in target\n",
            "[2022-04-04 04:38:50] [INFO] __main__ Round: 16,  MAPE: 0.1921543817660877, MAE: 6516.635777712192 in target\n",
            "[2022-04-04 04:38:53] [INFO] __main__ Round: 17,  MAPE: 0.13225618562645322, MAE: 4189.838597900826 in target\n",
            "[2022-04-04 04:38:56] [INFO] __main__ Round: 18,  MAPE: 0.24248632440930495, MAE: 6510.85187552381 in target\n",
            "[2022-04-04 04:38:58] [INFO] __main__ Round: 19,  MAPE: 0.17820929522607568, MAE: 5931.751248208791 in target\n",
            "[2022-04-04 04:39:01] [INFO] __main__ Round: 20,  MAPE: 0.14810019602490124, MAE: 3806.1133765858626 in target\n",
            "[2022-04-04 04:39:04] [INFO] __main__ Round: 21,  MAPE: 0.15726000931078332, MAE: 4534.187508455148 in target\n",
            "[2022-04-04 04:39:06] [INFO] __main__ Round: 22,  MAPE: 0.12734318243314757, MAE: 4017.8865600183367 in target\n",
            "[2022-04-04 04:39:09] [INFO] __main__ Round: 23,  MAPE: 0.11547173095457548, MAE: 3634.1158683533813 in target\n",
            "[2022-04-04 04:39:12] [INFO] __main__ Round: 24,  MAPE: 0.08992842442278659, MAE: 2568.6602675658078 in target\n",
            "[2022-04-04 04:39:12] [INFO] __main__ MAPE mean in inference: 0.1609494507070226\n",
            "[2022-04-04 04:39:12] [INFO] __main__ MAE mean in inference: 4476.758673193113\n",
            "[2022-04-04 04:39:12] [INFO] __main__ Loss On Unseen Dataset: 0.0015279323384701582\n"
          ]
        }
      ]
    },
    {
      "cell_type": "code",
      "source": [
        "best_model"
      ],
      "metadata": {
        "colab": {
          "base_uri": "https://localhost:8080/",
          "height": 35
        },
        "id": "jbm4eKj-oVno",
        "outputId": "3601dadc-00d6-43a1-cd61-8235fcc26f68"
      },
      "execution_count": null,
      "outputs": [
        {
          "output_type": "execute_result",
          "data": {
            "text/plain": [
              "'best_train_353.pth'"
            ],
            "application/vnd.google.colaboratory.intrinsic+json": {
              "type": "string"
            }
          },
          "metadata": {},
          "execution_count": 24
        }
      ]
    },
    {
      "cell_type": "code",
      "source": [
        "def df_date_encoding(df):\n",
        "  \n",
        "    timestamps = [ts.split('+')[0] for ts in  df['timestamp']]\n",
        "    timestamps_hour = np.array([float(datetime.datetime.strptime(t, '%Y-%m-%d %H:%M:%S').hour) for t in timestamps])\n",
        "    timestamps_day = np.array([float(datetime.datetime.strptime(t, '%Y-%m-%d %H:%M:%S').day) for t in timestamps])\n",
        "    timestamps_month = np.array([float(datetime.datetime.strptime(t, '%Y-%m-%d %H:%M:%S').month) for t in timestamps])\n",
        " \n",
        "    hours_in_day = 24\n",
        "    days_in_month = 30\n",
        "    month_in_year = 12\n",
        "\n",
        "    df['sin_hour'] = np.sin(2*np.pi*timestamps_hour/hours_in_day)\n",
        "    df['cos_hour'] = np.cos(2*np.pi*timestamps_hour/hours_in_day)\n",
        "    df['sin_day'] = np.sin(2*np.pi*timestamps_day/days_in_month)\n",
        "    df['cos_day'] = np.cos(2*np.pi*timestamps_day/days_in_month)\n",
        "    df['sin_month'] = np.sin(2*np.pi*timestamps_month/month_in_year)\n",
        "    df['cos_month'] = np.cos(2*np.pi*timestamps_month/month_in_year)\n",
        "\n",
        "    return df"
      ],
      "metadata": {
        "id": "DZFUKh1KHpJg"
      },
      "execution_count": null,
      "outputs": []
    },
    {
      "cell_type": "markdown",
      "source": [
        "### Función de inferencia para predicciones one step\n",
        "\n",
        "Sistema analogo que arroja predicciones one step sobre una serie determinada."
      ],
      "metadata": {
        "id": "Y9tYuOjFMcK2"
      }
    },
    {
      "cell_type": "code",
      "source": [
        "def inference_one_steps(df_with_time, model, device, process_length):\n",
        "\n",
        "  scaler = load('scalar_item.joblib')\n",
        "\n",
        "  df_encoded = df_date_encoding(df_with_time.copy())\n",
        "  values_encoded = df_encoded.drop(['timestamp'], axis=1).values\n",
        "  values_encoded[:,0] = scaler.transform(values_encoded[:,0].reshape(-1,1))[:,0]\n",
        "\n",
        "  # print(values_encoded)\n",
        "  # predictions = torch.tensor([], device=device)\n",
        "  output = np.array([])\n",
        "  tensor_serie = torch.tensor(values_encoded, device=device).unsqueeze(1)\n",
        "  i = 0\n",
        "  while i < tensor_serie.__len__():\n",
        "    model_input = tensor_serie[i:i+process_length,:,:]\n",
        "    prediction = model(model_input, device)\n",
        "    output = np.append(output, scaler.inverse_transform(prediction.cpu().detach().numpy().reshape(-1,1)).reshape(-1,))\n",
        "    i += process_length\n",
        "\n",
        "  return output"
      ],
      "metadata": {
        "id": "NuWvCc2btIor"
      },
      "execution_count": null,
      "outputs": []
    },
    {
      "cell_type": "code",
      "source": [
        "device = 'cuda'\n",
        "\n",
        "path_to_save_model = \"save_model_r/\"\n",
        "\n",
        "model = Transformer(feature_size=feature_size, n_heads=n_heads, dim_ff_enc=dim_ff_enc, num_layers=encoder_layers).double().to(device)\n",
        "model.load_state_dict(torch.load(path_to_save_model+best_model))\n",
        "\n",
        "df_with_time = df_energy_test\n",
        "# process_length = training_length\n",
        "process_length = 2000\n",
        "\n",
        "predictions = inference_one_steps(df_with_time=df_with_time, model=model, device=device, process_length=process_length)"
      ],
      "metadata": {
        "id": "6bakxhTAJvcU"
      },
      "execution_count": null,
      "outputs": []
    },
    {
      "cell_type": "code",
      "source": [
        "df_energy_test"
      ],
      "metadata": {
        "id": "hOmQFjm2Ff_R",
        "outputId": "b9d9b5f9-da55-441c-de76-cdc4770e3af9",
        "colab": {
          "base_uri": "https://localhost:8080/",
          "height": 423
        }
      },
      "execution_count": null,
      "outputs": [
        {
          "output_type": "execute_result",
          "data": {
            "text/plain": [
              "                       timestamp  total load actual\n",
              "24551  2017-10-20 00:00:00+02:00            24889.0\n",
              "24552  2017-10-20 01:00:00+02:00            23662.0\n",
              "24553  2017-10-20 02:00:00+02:00            22873.0\n",
              "24554  2017-10-20 03:00:00+02:00            22658.0\n",
              "24555  2017-10-20 04:00:00+02:00            22658.0\n",
              "...                          ...                ...\n",
              "35059  2018-12-31 19:00:00+01:00            30653.0\n",
              "35060  2018-12-31 20:00:00+01:00            29735.0\n",
              "35061  2018-12-31 21:00:00+01:00            28071.0\n",
              "35062  2018-12-31 22:00:00+01:00            25801.0\n",
              "35063  2018-12-31 23:00:00+01:00            24455.0\n",
              "\n",
              "[10509 rows x 2 columns]"
            ],
            "text/html": [
              "\n",
              "  <div id=\"df-f849c9d5-9c99-42e9-bb2c-80825f5052e6\">\n",
              "    <div class=\"colab-df-container\">\n",
              "      <div>\n",
              "<style scoped>\n",
              "    .dataframe tbody tr th:only-of-type {\n",
              "        vertical-align: middle;\n",
              "    }\n",
              "\n",
              "    .dataframe tbody tr th {\n",
              "        vertical-align: top;\n",
              "    }\n",
              "\n",
              "    .dataframe thead th {\n",
              "        text-align: right;\n",
              "    }\n",
              "</style>\n",
              "<table border=\"1\" class=\"dataframe\">\n",
              "  <thead>\n",
              "    <tr style=\"text-align: right;\">\n",
              "      <th></th>\n",
              "      <th>timestamp</th>\n",
              "      <th>total load actual</th>\n",
              "    </tr>\n",
              "  </thead>\n",
              "  <tbody>\n",
              "    <tr>\n",
              "      <th>24551</th>\n",
              "      <td>2017-10-20 00:00:00+02:00</td>\n",
              "      <td>24889.0</td>\n",
              "    </tr>\n",
              "    <tr>\n",
              "      <th>24552</th>\n",
              "      <td>2017-10-20 01:00:00+02:00</td>\n",
              "      <td>23662.0</td>\n",
              "    </tr>\n",
              "    <tr>\n",
              "      <th>24553</th>\n",
              "      <td>2017-10-20 02:00:00+02:00</td>\n",
              "      <td>22873.0</td>\n",
              "    </tr>\n",
              "    <tr>\n",
              "      <th>24554</th>\n",
              "      <td>2017-10-20 03:00:00+02:00</td>\n",
              "      <td>22658.0</td>\n",
              "    </tr>\n",
              "    <tr>\n",
              "      <th>24555</th>\n",
              "      <td>2017-10-20 04:00:00+02:00</td>\n",
              "      <td>22658.0</td>\n",
              "    </tr>\n",
              "    <tr>\n",
              "      <th>...</th>\n",
              "      <td>...</td>\n",
              "      <td>...</td>\n",
              "    </tr>\n",
              "    <tr>\n",
              "      <th>35059</th>\n",
              "      <td>2018-12-31 19:00:00+01:00</td>\n",
              "      <td>30653.0</td>\n",
              "    </tr>\n",
              "    <tr>\n",
              "      <th>35060</th>\n",
              "      <td>2018-12-31 20:00:00+01:00</td>\n",
              "      <td>29735.0</td>\n",
              "    </tr>\n",
              "    <tr>\n",
              "      <th>35061</th>\n",
              "      <td>2018-12-31 21:00:00+01:00</td>\n",
              "      <td>28071.0</td>\n",
              "    </tr>\n",
              "    <tr>\n",
              "      <th>35062</th>\n",
              "      <td>2018-12-31 22:00:00+01:00</td>\n",
              "      <td>25801.0</td>\n",
              "    </tr>\n",
              "    <tr>\n",
              "      <th>35063</th>\n",
              "      <td>2018-12-31 23:00:00+01:00</td>\n",
              "      <td>24455.0</td>\n",
              "    </tr>\n",
              "  </tbody>\n",
              "</table>\n",
              "<p>10509 rows × 2 columns</p>\n",
              "</div>\n",
              "      <button class=\"colab-df-convert\" onclick=\"convertToInteractive('df-f849c9d5-9c99-42e9-bb2c-80825f5052e6')\"\n",
              "              title=\"Convert this dataframe to an interactive table.\"\n",
              "              style=\"display:none;\">\n",
              "        \n",
              "  <svg xmlns=\"http://www.w3.org/2000/svg\" height=\"24px\"viewBox=\"0 0 24 24\"\n",
              "       width=\"24px\">\n",
              "    <path d=\"M0 0h24v24H0V0z\" fill=\"none\"/>\n",
              "    <path d=\"M18.56 5.44l.94 2.06.94-2.06 2.06-.94-2.06-.94-.94-2.06-.94 2.06-2.06.94zm-11 1L8.5 8.5l.94-2.06 2.06-.94-2.06-.94L8.5 2.5l-.94 2.06-2.06.94zm10 10l.94 2.06.94-2.06 2.06-.94-2.06-.94-.94-2.06-.94 2.06-2.06.94z\"/><path d=\"M17.41 7.96l-1.37-1.37c-.4-.4-.92-.59-1.43-.59-.52 0-1.04.2-1.43.59L10.3 9.45l-7.72 7.72c-.78.78-.78 2.05 0 2.83L4 21.41c.39.39.9.59 1.41.59.51 0 1.02-.2 1.41-.59l7.78-7.78 2.81-2.81c.8-.78.8-2.07 0-2.86zM5.41 20L4 18.59l7.72-7.72 1.47 1.35L5.41 20z\"/>\n",
              "  </svg>\n",
              "      </button>\n",
              "      \n",
              "  <style>\n",
              "    .colab-df-container {\n",
              "      display:flex;\n",
              "      flex-wrap:wrap;\n",
              "      gap: 12px;\n",
              "    }\n",
              "\n",
              "    .colab-df-convert {\n",
              "      background-color: #E8F0FE;\n",
              "      border: none;\n",
              "      border-radius: 50%;\n",
              "      cursor: pointer;\n",
              "      display: none;\n",
              "      fill: #1967D2;\n",
              "      height: 32px;\n",
              "      padding: 0 0 0 0;\n",
              "      width: 32px;\n",
              "    }\n",
              "\n",
              "    .colab-df-convert:hover {\n",
              "      background-color: #E2EBFA;\n",
              "      box-shadow: 0px 1px 2px rgba(60, 64, 67, 0.3), 0px 1px 3px 1px rgba(60, 64, 67, 0.15);\n",
              "      fill: #174EA6;\n",
              "    }\n",
              "\n",
              "    [theme=dark] .colab-df-convert {\n",
              "      background-color: #3B4455;\n",
              "      fill: #D2E3FC;\n",
              "    }\n",
              "\n",
              "    [theme=dark] .colab-df-convert:hover {\n",
              "      background-color: #434B5C;\n",
              "      box-shadow: 0px 1px 3px 1px rgba(0, 0, 0, 0.15);\n",
              "      filter: drop-shadow(0px 1px 2px rgba(0, 0, 0, 0.3));\n",
              "      fill: #FFFFFF;\n",
              "    }\n",
              "  </style>\n",
              "\n",
              "      <script>\n",
              "        const buttonEl =\n",
              "          document.querySelector('#df-f849c9d5-9c99-42e9-bb2c-80825f5052e6 button.colab-df-convert');\n",
              "        buttonEl.style.display =\n",
              "          google.colab.kernel.accessAllowed ? 'block' : 'none';\n",
              "\n",
              "        async function convertToInteractive(key) {\n",
              "          const element = document.querySelector('#df-f849c9d5-9c99-42e9-bb2c-80825f5052e6');\n",
              "          const dataTable =\n",
              "            await google.colab.kernel.invokeFunction('convertToInteractive',\n",
              "                                                     [key], {});\n",
              "          if (!dataTable) return;\n",
              "\n",
              "          const docLinkHtml = 'Like what you see? Visit the ' +\n",
              "            '<a target=\"_blank\" href=https://colab.research.google.com/notebooks/data_table.ipynb>data table notebook</a>'\n",
              "            + ' to learn more about interactive tables.';\n",
              "          element.innerHTML = '';\n",
              "          dataTable['output_type'] = 'display_data';\n",
              "          await google.colab.output.renderOutput(dataTable, element);\n",
              "          const docLink = document.createElement('div');\n",
              "          docLink.innerHTML = docLinkHtml;\n",
              "          element.appendChild(docLink);\n",
              "        }\n",
              "      </script>\n",
              "    </div>\n",
              "  </div>\n",
              "  "
            ]
          },
          "metadata": {},
          "execution_count": 26
        }
      ]
    },
    {
      "cell_type": "code",
      "source": [
        "true_values = df_energy_test.values[:,1][1:].astype(np.float64)\n",
        "pred_values = predictions[:-1]\n",
        "\n",
        "Measures.mape(true_values, pred_values)"
      ],
      "metadata": {
        "colab": {
          "base_uri": "https://localhost:8080/"
        },
        "id": "5saL05WaKM9K",
        "outputId": "5505bf73-a121-4f10-81dd-5de9a8bf3df8"
      },
      "execution_count": null,
      "outputs": [
        {
          "output_type": "execute_result",
          "data": {
            "text/plain": [
              "1.4507865364304786"
            ]
          },
          "metadata": {},
          "execution_count": 183
        }
      ]
    },
    {
      "cell_type": "code",
      "source": [
        "points = 500\n",
        "\n",
        "true_plot_values = true_values[:points]\n",
        "pred_plot_values = pred_values[:points]\n",
        "\n",
        "plt.figure(figsize=(15,6))\n",
        "plt.plot(range(true_plot_values.__len__()), true_plot_values)\n",
        "plt.plot(range(pred_plot_values.__len__()), pred_plot_values)"
      ],
      "metadata": {
        "id": "egQLZ83cXjUz",
        "colab": {
          "base_uri": "https://localhost:8080/",
          "height": 396
        },
        "outputId": "9f7afbda-c1ca-4ba0-fbe9-9d4dcc7b7ed5"
      },
      "execution_count": null,
      "outputs": [
        {
          "output_type": "execute_result",
          "data": {
            "text/plain": [
              "[<matplotlib.lines.Line2D at 0x7f852de19950>]"
            ]
          },
          "metadata": {},
          "execution_count": 173
        },
        {
          "output_type": "display_data",
          "data": {
            "text/plain": [
              "<Figure size 1080x432 with 1 Axes>"
            ],
            "image/png": "[encoded data removed]"
          },
          "metadata": {
            "needs_background": "light"
          }
        }
      ]
    },
    {
      "cell_type": "markdown",
      "source": [
        "##Comparación con otros modelos de predicción.\n",
        "\n",
        "En esta sección se compara el rendimiento del modelo con otros regresores clásicos que realizan este trabajo."
      ],
      "metadata": {
        "id": "7pAvNGS28usR"
      }
    },
    {
      "cell_type": "code",
      "source": [
        "df_energy_test['timestamp'] = pd.to_datetime(df_energy['timestamp'], format='%Y-%m-%d %H:%M:%S')\n",
        "\n",
        "df_energy_test.iloc[:500].plot(x='timestamp', figsize=(15,8))"
      ],
      "metadata": {
        "colab": {
          "base_uri": "https://localhost:8080/",
          "height": 630
        },
        "id": "ucVjXXlC9Cao",
        "outputId": "a142335c-0f5e-44d7-d972-31e4fdcfd7ca"
      },
      "execution_count": null,
      "outputs": [
        {
          "output_type": "stream",
          "name": "stderr",
          "text": [
            "/usr/local/lib/python3.7/dist-packages/ipykernel_launcher.py:1: SettingWithCopyWarning: \n",
            "A value is trying to be set on a copy of a slice from a DataFrame.\n",
            "Try using .loc[row_indexer,col_indexer] = value instead\n",
            "\n",
            "See the caveats in the documentation: https://pandas.pydata.org/pandas-docs/stable/user_guide/indexing.html#returning-a-view-versus-a-copy\n",
            "  \"\"\"Entry point for launching an IPython kernel.\n"
          ]
        },
        {
          "output_type": "execute_result",
          "data": {
            "text/plain": [
              "<matplotlib.axes._subplots.AxesSubplot at 0x7f852af0f410>"
            ]
          },
          "metadata": {},
          "execution_count": 187
        },
        {
          "output_type": "display_data",
          "data": {
            "text/plain": [
              "<Figure size 1080x576 with 1 Axes>"
            ],
            "image/png": "[encoded data removed]"
          },
          "metadata": {
            "needs_background": "light"
          }
        }
      ]
    },
    {
      "cell_type": "markdown",
      "source": [
        "###Red Neuronal"
      ],
      "metadata": {
        "id": "hSJ018TRF_tA"
      }
    },
    {
      "cell_type": "code",
      "metadata": {
        "id": "HN3--9p_lZVS"
      },
      "source": [
        "# Función para la generación de series temporales, cuyo largo se puede configurar.\n",
        "\n",
        "def series_constructor(df, len_serie, column_serie, n_data, column_concat_name=None, dropna=True, reset_index=True):\n",
        "  df_process = df[column_serie]\n",
        "  df_out = pd.DataFrame() if column_concat_name == None else df[column_concat_name]\n",
        "  for k in reversed(range(len_serie + 1)):\n",
        "    serie_moved = df_process.shift(k)\n",
        "    serie_moved.name = 't-' + str(k)\n",
        "    df_out = pd.concat([df_out, serie_moved], axis=1)\n",
        "  df_out.rename(columns={'t-0':'t'}, inplace=True)\n",
        "  columns_final = list(df_out.columns) if column_concat_name == None else list(df_out.columns)[1:] + [column_concat_name]\n",
        "  df_out = df_out[columns_final]\n",
        "  df_out.dropna(inplace=dropna)\n",
        "  df_out = df_out.iloc[:n_data]\n",
        "  df_out.reset_index(drop=reset_index, inplace=reset_index)\n",
        "  return df_out"
      ],
      "execution_count": null,
      "outputs": []
    }
  ]
}